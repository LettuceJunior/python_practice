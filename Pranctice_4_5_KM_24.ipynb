{
  "cells": [
    {
      "cell_type": "markdown",
      "metadata": {
        "id": "1bRxWHr5e8kt"
      },
      "source": [
        "# **Курс \"Програмування на мові Python\"**"
      ]
    },
    {
      "cell_type": "markdown",
      "metadata": {
        "id": "buZUwUgFe-kx"
      },
      "source": [
        "## **Практичні зайняття №4-5**\n",
        "### Тема: \"Перші програми на Python. Введення та виведення даних. Інструкція if. Цикли. Робота зі списками\""
      ]
    },
    {
      "cell_type": "markdown",
      "metadata": {
        "id": "PUkxEn8EfAUe"
      },
      "source": [
        "### **Завдання 1 (1,5 бали)**\n",
        "\n"
      ]
    },
    {
      "cell_type": "markdown",
      "metadata": {
        "id": "M7jjwxAvfKa2"
      },
      "source": [
        "**Написати програму введення та виведення даних про одержувача листа (посилки) за стандартами Укрпошти.**\n",
        "\n",
        "1. Усі запити на введення даних повинні супроводжуватись відповідними підказками-поясненнями (бажано англійською мовою).\n",
        "\n",
        "2. Дані мають виводитись так, як показано нижче (з урахуванням кількості рядків та послідовності даних у кожному з них).\n",
        "\n",
        "3. Дані, виділені жирним шрифтом, повинні вводитись із клавіатури. Всього має бути 9 окремих команд введення даних\n",
        "\n",
        "4. Назви змінних повинні бути інформативними та оформленими відповідно до правил іменування змінних\n",
        "\n",
        "5. Додати 2 коментарі, що вказують на блоки введення та виведення даних.\n",
        "\n",
        "***Формат виведення даних:***\n",
        "\n",
        "(1) **Ім'я** (2) **Прізвище**\n",
        "\n",
        "(3) **Номер телефону**\n",
        "\n",
        "Str. (4) **Назва вулиці** (5) **Номер будинку**, ap. (6) **Номер квартири**, (7) **Місто**\n",
        "\n",
        "(8) **Індекс**\n",
        "\n",
        "(9) **Країна**\n",
        "\n",
        "***Приклад виведення:***\n",
        "\n",
        "*Lucas Diallo*\n",
        "\n",
        "*3221234567*\n",
        "\n",
        "*Str. Longue 3, ap. 5, Bruxelles*\n",
        "\n",
        "*1020*\n",
        "\n",
        "*Belgium*"
      ]
    },
    {
      "cell_type": "code",
      "execution_count": null,
      "metadata": {
        "id": "hEJG5C3_fJk9"
      },
      "outputs": [],
      "source": [
        "print (\"Nice to meet you here! \\n to send your parcel we need some info about you :)\")\n",
        "\n",
        "name=input(\"please type your name \\n\")\n",
        "surname=input(\"and surname \\n\")\n",
        "print (\"thanks!\")\n",
        "number=input(\"type your phone number \\n\")\n",
        "print (\"great! \\n\")\n",
        "print (\"now we need your adress\")\n",
        "street=input(\"enter the street name \\n\")\n",
        "house=input(\"enter the house number \\n\")\n",
        "ap=input(\"enter the apartment number \\n\")\n",
        "city=input(\"entr your city \\n\")\n",
        "code=input(\"enter the ZIP code \\n\")\n",
        "print(\"Good! We are almost done!\")\n",
        "country=input(\"enter you country \\n\")\n",
        "print (\"That's all, thanks! \\n\")\n",
        "print (\"would you like to check? \\n\")\n",
        "ans=input(\"(yes/no) \\n\") \n",
        "if ans==(\"yes\"):\n",
        "    print (name, surname, \"\\n\", number, \"\\n str.\", street, house, \", ap.\", ap, \",\", city, \"\\n\", code, \"\\n\", country)\n",
        "elif ans==(\"no\"):\n",
        "    print (\"Ok, bye!\")"
      ]
    },
    {
      "cell_type": "markdown",
      "metadata": {
        "id": "WmnpKrmPf689"
      },
      "source": [
        "### **Завдання 2 (1,5 бали)**"
      ]
    },
    {
      "cell_type": "markdown",
      "metadata": {
        "id": "4n4p_pz7gFKM"
      },
      "source": [
        "Таблиця містить магнітуду землетрусів за шкалою Ріхтера та дескриптори, що їй відповідають.\n",
        "\n",
        "Магнітуда | Дескриптор\n",
        "--- | ---\n",
        "Менше, ніж 2 | Micro\n",
        "Від 2 до менше ніж 3 | Very minor\n",
        "Від 3 до менше ніж 4 | Minor\n",
        "Від 4 до менше ніж 5 | Light\n",
        "Від 5 до менше ніж 6 | Moderate\n",
        "Від 6 до менше ніж 7 | Strong\n",
        "Від 7 до менше ніж 8 | Major\n",
        "Від 8 до менше ніж 10 | Great\n",
        "10 та більше | Meteoric\n",
        "\n",
        "Напишіть програму, яка буде зчитувати магнітуду, введену користувачем, та виводити відповідний дескриптор як частину змістовного повідомлення. Наприклад, якщо користувач вводить 5.5, ваша програма повинна показати, що землетрус з такою магнітудою є помірним (moderate)."
      ]
    },
    {
      "cell_type": "code",
      "execution_count": null,
      "metadata": {},
      "outputs": [],
      "source": [
        "while True:\n",
        "    print (\"\\n введіть значення магнітуди\")\n",
        "    mg=float(input())\n",
        "    if 0<=mg<2:\n",
        "        print (\"землетрус з такою магнітудою є непомітним\")\n",
        "        continue\n",
        "    elif 2<=mg<3:\n",
        "        print (\"землетрус з такою магнітудою є дуже слабким\")\n",
        "        continue\n",
        "    elif 3<=mg<4:\n",
        "        print (\"землетрус з такою магнітудою є слабким\")\n",
        "        continue\n",
        "    elif 4<=mg<5:\n",
        "        print (\"землетрус з такою магнітудою є легким\")\n",
        "        continue\n",
        "    elif 5<=mg<6:\n",
        "        print (\"землетрус з такою магнітудою є помірним\")\n",
        "        continue\n",
        "    elif 6<=mg<7:\n",
        "        print (\"землетрус з такою магнітудою є сильним\")\n",
        "        continue\n",
        "    elif 7<=mg<8:\n",
        "        print (\"землетрус з такою магнітудою є дуже сильним\")\n",
        "        continue\n",
        "    elif 8<=mg<10:\n",
        "        print (\"землетрус з такою магнітудою є нищівним\")\n",
        "        continue\n",
        "    elif mg>=10:\n",
        "        print (\"землетрус з такою магнітудою є катастрофічним\")\n",
        "        continue\n",
        "    elif mg<0:\n",
        "        print (\"таблиця не містить такого значення\")\n",
        "        continue"
      ]
    },
    {
      "cell_type": "markdown",
      "metadata": {
        "id": "X8fC_GM_nMRi"
      },
      "source": [
        "### **Завдання 3 (бонусне, 1 бал)**"
      ]
    },
    {
      "cell_type": "markdown",
      "metadata": {
        "id": "b593txPwotgN"
      },
      "source": [
        "Мобільний оператор розробив тарифний план, згідно з яким, сплачуючи 100 грн. на місяць, абонент може спілкуватись 50 хвилин з абонентами інших мобільних операторів впродовж цього місяця. У разі перевищення ліміту абоненту надаються ще 50 хвилин до кінця місяця за 50 грн. Якщо ж і цей ліміт було перевищено, абонент сплачуватиме 2 грн. за кожну додаткову хвилину розмов до кінця поточного місяця.\n",
        "\n",
        "Напишіть програму, що підраховує суму коштів, яку доведеться сплатити абоненту за місяць, на основі тривалості його розмов з абонентами інших мобільних операторів (у хвилинах), введеної користувачем з клавіатури. Ваша програма також повинна виводити повідомлення про помилку, якщо користувач введе від'ємне число."
      ]
    },
    {
      "cell_type": "code",
      "execution_count": null,
      "metadata": {
        "id": "PA_E_H0Zosu0"
      },
      "outputs": [],
      "source": []
    },
    {
      "cell_type": "markdown",
      "metadata": {},
      "source": [
        "### **Завдання 4 (1,5 бали)**"
      ]
    },
    {
      "cell_type": "markdown",
      "metadata": {},
      "source": [
        "Продавець роздрібного товару влаштовує розпродаж. Для всіх товарів знижка однакова - 60%. Щоб вивісити нові цінники, продавець хоче скласти таблицю, в якій для кожного товару буде підрахована його нова вартість та сума знижки.\n",
        "\n",
        "Написати програму, яка буде генерувати таку таблицю. Вартість одиниць товарів до розпродажу подано у списку products_list. \n",
        "\n",
        "1. Для підрахунку невідомих значень та їх виведення повинен використовуватись цикл.\n",
        "\n",
        "2. Вартість з урахуванням знижки та суми знижок для кожного товару повинні зберігатись у двох окремих списках. Порядок товарів у нових списках повинен бути такий самий, як і в списку products_list.\n",
        "\n",
        "3. Кожне підраховане числове значення має бути округлене до сотих. Для цього слід використати функцію round(). Приклад застосування цієї функції:\n",
        "\n",
        "```\n",
        "value_new = round(2.3741, 2)\n",
        "print(value_new)\n",
        "```\n",
        "\n",
        "4. Дані повинні виводитись у вигляді:\n",
        "\n",
        "**Discount table:**\n",
        "\n",
        "**29.25 11.7 17.55**\n",
        "\n",
        "**48.99 19.6 29.39**\n",
        "\n",
        "**...**\n",
        "\n",
        "\n",
        "products_list = [29.25, 48.99, 99.98, 124.65, 214.30, 543.90, 799.85]"
      ]
    },
    {
      "cell_type": "code",
      "execution_count": null,
      "metadata": {},
      "outputs": [],
      "source": [
        "print (\"таблиця знижок \\n\")\n",
        "products_list = [29.25, 48.99, 99.98, 124.65, 214.30, 543.90, 799.85]\n",
        "a=products_list[0]*0.6\n",
        "b=products_list[1]*0.6\n",
        "c=products_list[2]*0.6\n",
        "d=products_list[3]*0.6\n",
        "e=products_list[4]*0.6\n",
        "f=products_list[5]*0.6\n",
        "g=products_list[6]*0.6\n",
        "print (\"стара ціна:\", products_list)\n",
        "ar=round(a, 2)\n",
        "br=round(b, 2)\n",
        "cr=round(c, 2)\n",
        "dr=round(d, 2)\n",
        "er=round(e, 2)\n",
        "fr=round(f, 2)\n",
        "gr=round(g, 2)\n",
        "new_list=[ar,br,cr,dr,er,fr,gr]\n",
        "print (\"нова ціна:\", new_list)\n",
        "discount=[products_list[0]-ar,products_list[1]-br,products_list[2]-cr,products_list[3]-dr,\n",
        "products_list[4]-er,products_list[5]-fr,products_list[6]-gr]\n",
        "print (\"знижка:\", discount)"
      ]
    },
    {
      "cell_type": "markdown",
      "metadata": {},
      "source": [
        "### **Завдання 5 (1,5 бали)**"
      ]
    },
    {
      "cell_type": "markdown",
      "metadata": {},
      "source": [
        "Перелічуючи деякі предмети у тексті, ми ставимо між ними коми. В англійській мові слово and зазвичай ставлять між останнім та передостаннім словом у переліку (за виключенням випадку, коли у списку всього одне слово). Також в англійській мові прийнято ставити кому перед and (оксфордська кома), якщо в переліку більше двох найменувань. Розглянемо 4 приклади:\n",
        "\n",
        "**apples**\n",
        "\n",
        "**apples and oranges**\n",
        "\n",
        "**apples, oranges, and bananas**\n",
        "\n",
        "**apples, oranges, bananas, and lemons**\n",
        "\n",
        "Напишіть програму, яка:\n",
        "\n",
        "1. отримує на вхід перелік деяких предметів, які користувач вводить з клавіатури, та записує їх у список у вигляді окремих елементів;\n",
        "\n",
        "2. виводить ці предмети у тій самій послідовності, в якій вони були введені, розставляючи коми та слово and так, як показано у прикладі."
      ]
    },
    {
      "cell_type": "code",
      "execution_count": null,
      "metadata": {},
      "outputs": [],
      "source": [
        "list1=input(\"Введіть набір слів чи символів \\n\").split(\",\")\n",
        "if len(list1)==1:\n",
        "    print (list1)\n",
        "elif len(list1)==2:\n",
        "    print (list1[0],\"and\",list1[1])\n",
        "elif len(list1)==3:\n",
        "    print (list1[0], \",\", list1[1], \",\", \"and\",list1[2])\n",
        "elif len(list1)==4:\n",
        "    print (list1[0], \",\", list1[1], \",\", list1[2], \",\", \"and\",list1[3])"
      ]
    }
  ],
  "metadata": {
    "colab": {
      "collapsed_sections": [],
      "name": "Pranctice_3_KM-01_<name>.ipynb",
      "provenance": []
    },
    "kernelspec": {
      "display_name": "Python 3.10.7 64-bit",
      "language": "python",
      "name": "python3"
    },
    "language_info": {
      "name": "python",
      "version": "3.10.7"
    },
    "vscode": {
      "interpreter": {
        "hash": "26de051ba29f2982a8de78e945f0abaf191376122a1563185a90213a26c5da77"
      }
    }
  },
  "nbformat": 4,
  "nbformat_minor": 2
}
